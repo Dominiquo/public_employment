{
 "cells": [
  {
   "cell_type": "code",
   "execution_count": 25,
   "metadata": {
    "collapsed": true
   },
   "outputs": [],
   "source": [
    "from utils import tools\n",
    "from parsing import PostingHandler"
   ]
  },
  {
   "cell_type": "code",
   "execution_count": 26,
   "metadata": {
    "collapsed": true
   },
   "outputs": [],
   "source": [
    "filepath = 'stored_pages/sample_posting.html'\n",
    "page_text = tools.load_page_text(filepath)\n",
    "post_obj = PostingHandler.PostingParser(page_text)\n",
    "calendar = post_obj.parse_calendar()\n",
    "main_fields = post_obj.parse_main_fields()"
   ]
  },
  {
   "cell_type": "code",
   "execution_count": 27,
   "metadata": {},
   "outputs": [
    {
     "data": {
      "text/plain": [
       "[('Difusión y Plazo de Postulación', '06/12/2016-09/12/2016'),\n",
       " ('Proceso de Evaluación y Selección del Postulante', '10/12/2016-09/01/2017'),\n",
       " ('Finalización del Proceso', '10/01/2017-11/01/2017')]"
      ]
     },
     "execution_count": 27,
     "metadata": {},
     "output_type": "execute_result"
    }
   ],
   "source": [
    "calendar"
   ]
  },
  {
   "cell_type": "code",
   "execution_count": 28,
   "metadata": {},
   "outputs": [
    {
     "data": {
      "text/plain": [
       "[('Ministerio', 'Ministerio de Hacienda'),\n",
       " ('Institución / Entidad',\n",
       "  'Servicio Nacional de Aduanas / Dirección Regional de Aduana Iquique'),\n",
       " ('Cargo', 'Especialista Minero - Iquique'),\n",
       " ('Nº de Vacantes', '1'),\n",
       " ('Área de Trabajo', 'Fiscalización'),\n",
       " ('Región', 'Tarapacá'),\n",
       " ('Ciudad', 'Iquique'),\n",
       " ('Tipo de Vacante', 'Contrata'),\n",
       " ('Renta Bruta', '2.050.591'),\n",
       " ('Renta Bruta', '2.050.591'),\n",
       " ('Objetivo del Cargo',\n",
       "  '\\nEfectuar análisis del negocio y de los riesgos asociados al comercio exterior del sector e industria de la minería, y apoyar los procesos de auditoría a posteriori y fiscalización del sector minero (a priori, en línea y a posteriori), con fuerte énfasis en los resultados obtenidos, la imparcialidad y confidencialidad, liderando equipos de trabajo que se enmarcan en un entorno de alta presión y responsabilidad, sabiendo tomar decisiones acorde a los intereses de la Institución.'),\n",
       " ('Objetivo del Cargo',\n",
       "  '\\nEfectuar análisis del negocio y de los riesgos asociados al comercio exterior del sector e industria de la minería, y apoyar los procesos de auditoría a posteriori y fiscalización del sector minero (a priori, en línea y a posteriori), con fuerte énfasis en los resultados obtenidos, la imparcialidad y confidencialidad, liderando equipos de trabajo que se enmarcan en un entorno de alta presión y responsabilidad, sabiendo tomar decisiones acorde a los intereses de la Institución.')]"
      ]
     },
     "execution_count": 28,
     "metadata": {},
     "output_type": "execute_result"
    }
   ],
   "source": [
    "main_fields"
   ]
  },
  {
   "cell_type": "code",
   "execution_count": null,
   "metadata": {
    "collapsed": true
   },
   "outputs": [],
   "source": []
  }
 ],
 "metadata": {},
 "nbformat": 4,
 "nbformat_minor": 2
}
